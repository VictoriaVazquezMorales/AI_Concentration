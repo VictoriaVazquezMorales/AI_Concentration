{
  "cells": [
    {
      "cell_type": "markdown",
      "metadata": {
        "id": "view-in-github",
        "colab_type": "text"
      },
      "source": [
        "<a href=\"https://colab.research.google.com/github/VictoriaVazquezMorales/AI_Concentration/blob/main/PyLb_TensoFlow.ipynb\" target=\"_parent\"><img src=\"https://colab.research.google.com/assets/colab-badge.svg\" alt=\"Open In Colab\"/></a>"
      ]
    },
    {
      "cell_type": "markdown",
      "metadata": {
        "id": "2SADMJThaibH"
      },
      "source": [
        "# Tensorflow\n",
        "\n",
        "Para que tú puedas generar un modelo de datos que resuelva este problema es de vital importancia que antes extraigas y representes la información utilizando un lenguaje de programación como Python y una biblioteca especializada en representación de datos y creación de modelos como TensorFlow. Una vez extraída la información y representada esta debe ser utilizada para entrenar un modelo de datos que para esto es de vital importancia conocer las operaciones y modos de ejecución de los cálculos dentro de TensorFlow.\n",
        "\n",
        "En este tema vas a aprender a identificar el uso general de TensorFlow a través de la creación de tensores, sus operaciones básicas y modos de ejecución usando código en Python. Siendo la base para la construcción de modelos inteligentes con grandes volúmenes de datos."
      ]
    },
    {
      "cell_type": "markdown",
      "metadata": {
        "id": "_BT-LtYoaibL"
      },
      "source": [
        "## Tensores\n",
        "\n",
        "Dentro de tu entorno laboral es muy posible que la forma más común de visualizar, transmitir y capturar información sea a través de hojas de cálculo, formularios, listas de cotejo, entre otros.\n",
        "\n",
        "\n",
        "Normalmente, la información de las empresas, organizaciones, e instituciones suele estar representada por números y texto, como, por ejemplo, los datos de contacto de un cliente en específico, las órdenes de compra, los horarios de una persona, etcétera. Cada valor asociado con este tipo de registros dentro de una base de datos puede ser manejado por Python y alguna biblioteca de análisis y manipulación de datos como Pandas.\n",
        "\n",
        "\n",
        "Sin embargo, muchas veces este tipo de representaciones de la información puede no ser suficiente cuando queremos almacenar la información que provenga de una imagen.\n",
        "\n",
        "\n",
        "\n",
        "Hoy en día es muy probable que te encuentres con bases de datos que contengan información de millones de registros y por lo tanto el generar modelos de datos inteligentes sea una tarea que te consuma mucho tiempo de cómputo.  En los últimos años se ha empezado a hacer uso de las unidades de procesamiento gráfico de propósito general llamadas GPUs para acelerar el proceso de generación de modelos de datos.\n",
        "\n",
        "\n",
        "Por lo tanto, si queremos representar imágenes y construir modelos rápidamente, surge la necesidad de utilizar una representación de un objeto en Python que nos permita representar la información que hay dentro de una imagen y además que pueda aprovechar las opciones de aceleración de los GPUs para que podamos generar modelos de datos más rápido.\n",
        "\n",
        "\n",
        "Desde luego en Python existen algunas bibliotecas que nos podrían ayudar a construir modelo de datos con imágenes. Sin embargo, entre todas las bibliotecas disponibles, TensorFlow busca facilitar aún más este proceso y además no solamente integrar el uso de GPUs sino también de una nueva tecnología llamada unidad de procesamiento tensorial TPU.\n",
        "\n",
        "\n",
        "Sabías que TensorFlow es utilizado en diversas empresas reconocidas para aplicaciones relacionadas con modelos de datos inteligentes. Te invitamos a visitar el siguiente enlace y que conozcas algunos casos de éxito y como es utilizado TensorFlow:\n",
        "\n",
        "\n",
        "https://www.tensorflow.org/about/case-studies\n",
        "\n",
        "\n",
        "Para que tu puedas utilizar esta poderosa plataforma llamada TensorFlow debes comprender primeramente el objeto con el que TensorFlow maneja la información internamente llamado Tensor.\n",
        "\n"
      ]
    },
    {
      "cell_type": "markdown",
      "metadata": {
        "id": "yyUcp1uGaibM"
      },
      "source": [
        "Considera la siguiente información proveniente de una aerolínea que incluye tarifas de vuelos, posición de los aviones, y distancia en kilómetros por destino:\n",
        "\n",
        "Tabla 1\n",
        "![Tabla 1](attachment:imagen.png)\n",
        "\n",
        "Tabla 2\n",
        "![imagen-2.png](attachment:imagen-2.png)\n",
        "\n",
        "Tabla 3\n",
        "![imagen-3.png](attachment:imagen-3.png)"
      ]
    },
    {
      "cell_type": "markdown",
      "metadata": {
        "id": "ty_fB3nyaibM"
      },
      "source": [
        "En la Tabla 1 podemos poner el costo unitario de cada vuelo en un tensor, es decir, 3000, 2400 y 2000 los cuales llamaremos **escalares** puesto que es solo un dato independiente por tensor.\n",
        "\n",
        "En la Tabla 2 donde por identificador tiene asociado tres valores que marcan su posición actual la latitud, longitud y la altitud, este tipo de objeto que almacena más de un valor numérico le llamaremos **vector**.\n",
        "\n",
        "Finalmente, si quisieras incluso almacenar en un tensor datos distribuidos en celdas marcadas por diferentes filas y columnas como las distancias en kilómetros entre los diferentes destinos dentro de la Tabla 3, se podría hacer sin ningún problema y llamaríamos a este conjunto de valores **matrices**.\n",
        "\n",
        "![imagen.png](attachment:imagen.png)"
      ]
    },
    {
      "cell_type": "markdown",
      "metadata": {
        "id": "EvDldslUaibM"
      },
      "source": [
        "Por lo tanto, un tensor es un objeto donde puedes almacenar escalares, vectores, o matrices de dato, pero a la vez también pueden ser útiles para almacenar mucha más información. Ahora bien, es tiempo de que nos pongamos a trabajar y comiences a utilizar Python con TensorFlow."
      ]
    },
    {
      "cell_type": "code",
      "execution_count": null,
      "metadata": {
        "id": "nOYEoffC4Vsb"
      },
      "outputs": [],
      "source": [
        "#Importar la bibliotecas de Python\n",
        "import tensorflow as tf\n",
        "import numpy as np\n"
      ]
    },
    {
      "cell_type": "markdown",
      "metadata": {
        "id": "21gCVch0aibO"
      },
      "source": [
        "Cada tensor tiene un valor inicial que puede ser un escalar (1342) que represente, por ejemplo, el número de transacciones bancarias de una PyME"
      ]
    },
    {
      "cell_type": "code",
      "execution_count": null,
      "metadata": {
        "colab": {
          "base_uri": "https://localhost:8080/"
        },
        "id": "I8kaj4Zaq9ed",
        "outputId": "4ffbf4ec-7392-468c-9b78-b48a7ebfbd46"
      },
      "outputs": [
        {
          "name": "stdout",
          "output_type": "stream",
          "text": [
            "<tf.Variable 'Variable:0' shape=() dtype=int16, numpy=1342>\n"
          ]
        }
      ],
      "source": [
        "escalar = tf.Variable(1342, shape = (), dtype = tf.int16)\n",
        "print(escalar)\n",
        "\n"
      ]
    },
    {
      "cell_type": "markdown",
      "metadata": {
        "id": "tv33Ak8JaibP"
      },
      "source": [
        "Un vector fila o columna ([12, 21,21,21] o ([[12], [21], [21], [12]]) que representa los días de 4 meses seguidos de cuando se hicieron pagos a algún tipo de servicio o tarjeta de crédito"
      ]
    },
    {
      "cell_type": "code",
      "execution_count": null,
      "metadata": {
        "id": "Gyp_ZdjFaibP",
        "outputId": "3543ec3c-6b78-4139-8586-58c3e137e231"
      },
      "outputs": [
        {
          "name": "stdout",
          "output_type": "stream",
          "text": [
            "<tf.Variable 'Variable:0' shape=(4,) dtype=int32, numpy=array([12, 21, 21, 21])>\n"
          ]
        }
      ],
      "source": [
        "vectorFila = tf.Variable([12, 21, 21, 21], shape = (4,), dtype = tf.int32)\n",
        "print(vectorFila)\n"
      ]
    },
    {
      "cell_type": "code",
      "execution_count": null,
      "metadata": {
        "id": "cjhbloLRaibP",
        "outputId": "bb664747-e731-4b11-ff81-2ca609b90d37"
      },
      "outputs": [
        {
          "name": "stdout",
          "output_type": "stream",
          "text": [
            "<tf.Variable 'Variable:0' shape=(4, 1) dtype=int32, numpy=\n",
            "array([[12],\n",
            "       [21],\n",
            "       [21],\n",
            "       [12]])>\n"
          ]
        }
      ],
      "source": [
        "vectorCol = tf.Variable([[12], [21], [21], [12]], shape = (4,1), dtype = tf.int32)\n",
        "print(vectorCol)\n"
      ]
    },
    {
      "cell_type": "markdown",
      "metadata": {
        "id": "KhN0X6X6aibQ"
      },
      "source": [
        "Una matriz ([[32,43,23], [23,44,53], [60,54,81], [56,73,24]]) que represente el número de cambios y devoluciones en cuatro tiendas diferentes durante un trimestre"
      ]
    },
    {
      "cell_type": "code",
      "execution_count": null,
      "metadata": {
        "id": "eZZ1dgJkaibQ",
        "outputId": "4ec53c9f-0b4e-41f8-b178-aa906ba66edf"
      },
      "outputs": [
        {
          "name": "stdout",
          "output_type": "stream",
          "text": [
            "<tf.Variable 'Variable:0' shape=(4, 3) dtype=int32, numpy=\n",
            "array([[32, 43, 23],\n",
            "       [23, 44, 53],\n",
            "       [60, 54, 81],\n",
            "       [56, 73, 24]])>\n"
          ]
        }
      ],
      "source": [
        "matriz = tf.Variable([[32,43,23], [23,44,53], [60,54,81], [56,73,24]], shape = (4,3), dtype = tf.int32)\n",
        "print(matriz)\n"
      ]
    },
    {
      "cell_type": "markdown",
      "metadata": {
        "id": "z4CMjsfoaibQ"
      },
      "source": [
        "O una cadena de texto que represente información descriptiva y que no puede expresarse de forma numérica."
      ]
    },
    {
      "cell_type": "code",
      "execution_count": null,
      "metadata": {
        "id": "1bD2j5axaibQ",
        "outputId": "edca5e54-c9aa-466d-a189-0473076a7240"
      },
      "outputs": [
        {
          "name": "stdout",
          "output_type": "stream",
          "text": [
            "<tf.Variable 'Variable:0' shape=() dtype=string, numpy=b'Este registro fue generado con la informaci\\xc3\\xb3n de los clientes'>\n"
          ]
        }
      ],
      "source": [
        "texto = tf.Variable(\"Este registro fue generado con la información de los clientes\", shape = (), dtype= tf.string)\n",
        "print(texto)"
      ]
    },
    {
      "cell_type": "markdown",
      "metadata": {
        "id": "aJ5xf_ByaibQ"
      },
      "source": [
        "De igual forma cada tensor tiene asociado una forma (shape) que es la que establece la cantidad de datos y como se organizan dentro del tensor.\n",
        "\n",
        "Para la celda 2,definimos ```shape = ()``` debido a que solamente almacenamos un solo dato como el número de transacciones de una Pyme o información descriptiva de un registro.\n",
        "\n",
        "En el caso de los vectores tenemos dos alternativas, una puede ser un vector general o fila y solo debemos especificar el primer valor indicando el número de elementos, como en la celda 3 especificamos como ```shape = (4,)``` donde el primer número dentro del paréntesis representa la cantidad de valores que almacenaremos dentro del tensor.\n",
        "\n",
        "Es importante reconocer que tenemos vectores columna que a diferencia de los vectores fila si los vemos de forma gráfica están en una posición vertical. Para utilizar los vectores columna debes especificar su forma incluyendo el número de filas y especificar que al menos se tendrá una columna. Por ejemplo, la celda 4 especifica que el vector columna tendrá 4 filas y una columna ```shape = (4,1)```.\n",
        "\n",
        "La matriz al igual que el vector columna necesita especificar en su forma tanto el número de fila como el de columnas el cual puede ser diferente de 1. Por ejemplo, la matriz de la línea 4 representando el número de cambios y devoluciones en cuatro tiendas diferentes durante un trimestre almacena 4 filas de 3 columnas ```shape = (4,3)``` donde cada lista dentro de la lista principal del valor inicial representa una fila de la matriz.\n",
        "\n",
        "\n"
      ]
    },
    {
      "cell_type": "markdown",
      "metadata": {
        "id": "fGv-e4ddaibQ"
      },
      "source": [
        "Otro elemento importante de los tensores es el tipo de dato que van a almacenar que se especifica manualmente en dtype, en nuestro código anterior tenemos:   ```tf.int16```, ```tf.int32```, ```tf.string```. El tipo de dato nos ayudará a especificar dentro de TensorFlow la cantidad de bits que representará nuestro número. El tipo de dato tienen una gran relevancia porque te ayudará a ahorrar espacio en memoria, por ejemplo, si quieres guardar días del mes bastaría utilizar un ```tf.int8```, sin embargo, si vas a guardar cantidades más grandes como el número de transacciones anuales dentro de una empresa por mes podrías utilizar un ```tf.int32```.  En ocasiones el número de bits se va a colocar explícitamente seguido del tipo de dato como en ```tf.int16``` y ```tf.int32``` donde mientras mayor sea el número podemos representar números con más grandes. Las últimas líneas de código del bloque son para imprimir la información dentro de los tensores."
      ]
    },
    {
      "cell_type": "markdown",
      "metadata": {
        "id": "Eh3ELe2zaibQ"
      },
      "source": [
        "Podemos observar primeramente información interna de TensorFlow sobre que los tensores que creamos son del tipo “Variable”, también podemos ver los atributos de forma (shape), y el tipo de dato (dtype).\n",
        "\n",
        "![imagen.png](attachment:imagen.png)\n"
      ]
    },
    {
      "cell_type": "code",
      "execution_count": null,
      "metadata": {
        "id": "sulm74-PaibQ"
      },
      "outputs": [],
      "source": [
        "# Prueba acceder a cada uno de sus atributos\n",
        "\n",
        "\n"
      ]
    },
    {
      "cell_type": "markdown",
      "metadata": {
        "id": "o2bnZGfDaibQ"
      },
      "source": [
        "Finalmente, TensorFlow en ocasiones se apoya del uso de numpy una biblioteca para el manejo de vectores, matrices y sus operaciones. Es por esa razón que al imprimir nuestros tensores al final del código anterior existe un atributo llamado “numpy” que especifica la representación de los datos que ingresamos utilizando esta biblioteca."
      ]
    },
    {
      "cell_type": "markdown",
      "metadata": {
        "id": "n2NsXpZ7aibQ"
      },
      "source": [
        "Si ya dominas los atributos de los tensores también puedes omitir la forma y el tipo de dato y dejar que sea TensorFlow el que tome estas decisiones como sucede en el siguiente código:"
      ]
    },
    {
      "cell_type": "code",
      "execution_count": null,
      "metadata": {
        "id": "OsnbaSKpxKFs",
        "outputId": "096b2f13-f4c1-444a-ad46-2eb11eb9b717"
      },
      "outputs": [
        {
          "name": "stdout",
          "output_type": "stream",
          "text": [
            "<tf.Variable 'Variable:0' shape=() dtype=float32, numpy=23.43>\n"
          ]
        }
      ],
      "source": [
        "escalarFlotante = tf.Variable(23.43)\n",
        "print(escalarFlotante)\n",
        "\n"
      ]
    },
    {
      "cell_type": "code",
      "execution_count": null,
      "metadata": {
        "id": "jBGwpJt3aibR",
        "outputId": "e76ea8e0-f576-4caf-bffc-07169ffbb8f8"
      },
      "outputs": [
        {
          "name": "stdout",
          "output_type": "stream",
          "text": [
            "<tf.Variable 'Variable:0' shape=(3,) dtype=float32, numpy=array([3.4, 4.2, 5. ], dtype=float32)>\n"
          ]
        }
      ],
      "source": [
        "vectorFila2 = tf.Variable([3.4, 4.2, 5])\n",
        "print(vectorFila2)\n",
        "\n"
      ]
    },
    {
      "cell_type": "markdown",
      "metadata": {
        "id": "fP84NMgcaibR"
      },
      "source": [
        "Puedes notar que introdujimos otro tipo de dato ```tf.float32``` así como también es importante que si dentro de un escalar, vector o matriz hay un dato con punto decimal este será un tensor de tipo ```tf.float32```."
      ]
    },
    {
      "cell_type": "code",
      "execution_count": null,
      "metadata": {
        "id": "67-uPtDZaibR",
        "outputId": "20b4d785-3c85-4b61-f01c-d8901620c725"
      },
      "outputs": [
        {
          "name": "stdout",
          "output_type": "stream",
          "text": [
            "<tf.Variable 'Variable:0' shape=(2, 4) dtype=int32, numpy=\n",
            "array([[  2,  34,   5,   3],\n",
            "       [ 43,  23, 532,  23]])>\n"
          ]
        }
      ],
      "source": [
        "matriz2 = tf.Variable([[2,34,5,3],[43,23,532,23]])\n",
        "print(matriz2)"
      ]
    },
    {
      "cell_type": "code",
      "execution_count": null,
      "metadata": {
        "id": "_9R1EIaloUPj",
        "outputId": "04b435d6-9b09-42c5-e411-891b6de03038"
      },
      "outputs": [
        {
          "ename": "TypeError",
          "evalue": "Cannot convert [12, 21, 21.5, 21] to EagerTensor of dtype int32",
          "output_type": "error",
          "traceback": [
            "\u001b[1;31m---------------------------------------------------------------------------\u001b[0m",
            "\u001b[1;31mTypeError\u001b[0m                                 Traceback (most recent call last)",
            "Cell \u001b[1;32mIn[12], line 2\u001b[0m\n\u001b[0;32m      1\u001b[0m \u001b[38;5;66;03m#Error diferentes tipos de datos\u001b[39;00m\n\u001b[1;32m----> 2\u001b[0m vectorFila \u001b[38;5;241m=\u001b[39m \u001b[43mtf\u001b[49m\u001b[38;5;241;43m.\u001b[39;49m\u001b[43mVariable\u001b[49m\u001b[43m(\u001b[49m\u001b[43m[\u001b[49m\u001b[38;5;241;43m12\u001b[39;49m\u001b[43m,\u001b[49m\u001b[43m \u001b[49m\u001b[38;5;241;43m21\u001b[39;49m\u001b[43m,\u001b[49m\u001b[43m \u001b[49m\u001b[38;5;241;43m21.5\u001b[39;49m\u001b[43m,\u001b[49m\u001b[43m \u001b[49m\u001b[38;5;241;43m21\u001b[39;49m\u001b[43m]\u001b[49m\u001b[43m,\u001b[49m\u001b[43m \u001b[49m\u001b[43mshape\u001b[49m\u001b[43m \u001b[49m\u001b[38;5;241;43m=\u001b[39;49m\u001b[43m \u001b[49m\u001b[43m(\u001b[49m\u001b[38;5;241;43m4\u001b[39;49m\u001b[43m,\u001b[49m\u001b[43m)\u001b[49m\u001b[43m,\u001b[49m\u001b[43m \u001b[49m\u001b[43mdtype\u001b[49m\u001b[43m \u001b[49m\u001b[38;5;241;43m=\u001b[39;49m\u001b[43m \u001b[49m\u001b[43mtf\u001b[49m\u001b[38;5;241;43m.\u001b[39;49m\u001b[43mint32\u001b[49m\u001b[43m)\u001b[49m\n",
            "File \u001b[1;32m~\\miniconda3\\envs\\mlenv\\lib\\site-packages\\tensorflow\\python\\util\\traceback_utils.py:153\u001b[0m, in \u001b[0;36mfilter_traceback.<locals>.error_handler\u001b[1;34m(*args, **kwargs)\u001b[0m\n\u001b[0;32m    151\u001b[0m \u001b[38;5;28;01mexcept\u001b[39;00m \u001b[38;5;167;01mException\u001b[39;00m \u001b[38;5;28;01mas\u001b[39;00m e:\n\u001b[0;32m    152\u001b[0m   filtered_tb \u001b[38;5;241m=\u001b[39m _process_traceback_frames(e\u001b[38;5;241m.\u001b[39m__traceback__)\n\u001b[1;32m--> 153\u001b[0m   \u001b[38;5;28;01mraise\u001b[39;00m e\u001b[38;5;241m.\u001b[39mwith_traceback(filtered_tb) \u001b[38;5;28;01mfrom\u001b[39;00m \u001b[38;5;28mNone\u001b[39m\n\u001b[0;32m    154\u001b[0m \u001b[38;5;28;01mfinally\u001b[39;00m:\n\u001b[0;32m    155\u001b[0m   \u001b[38;5;28;01mdel\u001b[39;00m filtered_tb\n",
            "File \u001b[1;32m~\\miniconda3\\envs\\mlenv\\lib\\site-packages\\tensorflow\\python\\framework\\constant_op.py:98\u001b[0m, in \u001b[0;36mconvert_to_eager_tensor\u001b[1;34m(value, ctx, dtype)\u001b[0m\n\u001b[0;32m     96\u001b[0m     dtype \u001b[38;5;241m=\u001b[39m dtypes\u001b[38;5;241m.\u001b[39mas_dtype(dtype)\u001b[38;5;241m.\u001b[39mas_datatype_enum\n\u001b[0;32m     97\u001b[0m ctx\u001b[38;5;241m.\u001b[39mensure_initialized()\n\u001b[1;32m---> 98\u001b[0m \u001b[38;5;28;01mreturn\u001b[39;00m \u001b[43mops\u001b[49m\u001b[38;5;241;43m.\u001b[39;49m\u001b[43mEagerTensor\u001b[49m\u001b[43m(\u001b[49m\u001b[43mvalue\u001b[49m\u001b[43m,\u001b[49m\u001b[43m \u001b[49m\u001b[43mctx\u001b[49m\u001b[38;5;241;43m.\u001b[39;49m\u001b[43mdevice_name\u001b[49m\u001b[43m,\u001b[49m\u001b[43m \u001b[49m\u001b[43mdtype\u001b[49m\u001b[43m)\u001b[49m\n",
            "\u001b[1;31mTypeError\u001b[0m: Cannot convert [12, 21, 21.5, 21] to EagerTensor of dtype int32"
          ]
        }
      ],
      "source": [
        "#Error diferentes tipos de datos\n",
        "vectorFila = tf.Variable([12, 21, 21.5, 21], shape = (4,), dtype = tf.int32)"
      ]
    },
    {
      "cell_type": "code",
      "execution_count": null,
      "metadata": {
        "id": "Dvzs9OhhpaND",
        "outputId": "8ffdcce0-d08a-412e-97d5-5d43ad1e7b3e"
      },
      "outputs": [
        {
          "data": {
            "text/plain": [
              "<tf.Variable 'Variable:0' shape=(6,) dtype=float32, numpy=array([125.32, 132.24, 128.45, 124.45, 133.43, 243.  ], dtype=float32)>"
            ]
          },
          "execution_count": 13,
          "metadata": {},
          "output_type": "execute_result"
        }
      ],
      "source": [
        "tensor1 = tf.Variable([125.32, 132.24, 128.45, 124.45, 133.43, 243] , shape = (6,), dtype = tf.float32)\n",
        "tensor1\n",
        "\n",
        "\n"
      ]
    },
    {
      "cell_type": "code",
      "execution_count": null,
      "metadata": {
        "id": "DP3KbjIuaibR",
        "outputId": "53a6c59a-bc91-4829-b715-9cb02edc8a7f"
      },
      "outputs": [
        {
          "data": {
            "text/plain": [
              "<tf.Variable 'Variable:0' shape=(6, 1) dtype=float32, numpy=\n",
              "array([[125.32],\n",
              "       [132.24],\n",
              "       [128.45],\n",
              "       [124.45],\n",
              "       [133.43],\n",
              "       [243.  ]], dtype=float32)>"
            ]
          },
          "execution_count": 14,
          "metadata": {},
          "output_type": "execute_result"
        }
      ],
      "source": [
        "tensor1 = tf.Variable([[125.32], [132.24], [128.45], [124.45], [133.43], [243]] , shape = (6,1), dtype = tf.float32)\n",
        "tensor1"
      ]
    },
    {
      "cell_type": "code",
      "execution_count": null,
      "metadata": {
        "colab": {
          "base_uri": "https://localhost:8080/"
        },
        "id": "fHLxPnCAyImK",
        "outputId": "d4d8a572-df5d-4c76-c6e3-2ca892e267f4"
      },
      "outputs": [
        {
          "name": "stdout",
          "output_type": "stream",
          "text": [
            "<tf.Variable 'Variable:0' shape=(3, 6) dtype=int32, numpy=\n",
            "array([[234, 342, 433, 423, 200, 432],\n",
            "       [432, 123, 153, 186,  95,  32],\n",
            "       [ 23,  53, 195, 176, 153,  87]])>\n"
          ]
        }
      ],
      "source": [
        "volumenes = tf.Variable([[234, 342, 433, 423, 200, 432], [432, 123, 153, 186, 95, 32], [23, 53, 195, 176, 153, 87]])\n",
        "print(volumenes)"
      ]
    },
    {
      "cell_type": "markdown",
      "metadata": {
        "id": "5Djr-7VNaibR"
      },
      "source": [
        "## Tipos de Tensores\n",
        "\n",
        "Así como hemos visto los atributos internos de un tensor, también existen varios tipos de ellos.\n",
        "\n",
        "Los principales son:\n",
        "\n",
        "* Variable: el valor asignado al tensor puede cambiar en cualquier momento, no así su forma o tipo de dato. Son utilizados normalmente para almacenar resultados de operaciones o datos que cambiarán en el tiempo. Por ejemplo, los 5 mejores tiempos de un corredor que son datos que podrían actualizarse en un futuro pueden almacenarse en un tensor de tipo variable:\n"
      ]
    },
    {
      "cell_type": "code",
      "execution_count": null,
      "metadata": {
        "id": "0c1WZZbPaibR",
        "outputId": "5b96906e-1240-412e-e934-7108fc26c4d0"
      },
      "outputs": [
        {
          "name": "stdout",
          "output_type": "stream",
          "text": [
            "<tf.Variable 'Variable:0' shape=(5,) dtype=float32, numpy=array([12.11, 12.23, 12.44, 12.51, 12.54], dtype=float32)>\n"
          ]
        }
      ],
      "source": [
        "variable = tf.Variable([12.11, 12.23, 12.44, 12.51, 12.54])\n",
        "print(variable)\n"
      ]
    },
    {
      "cell_type": "markdown",
      "metadata": {
        "id": "1-4X1lHaaibS"
      },
      "source": [
        "* Constant: el valor o los valores asignados al tensor no pueden ser modificados una vez creado. Pueden utilizarse como elementos fijos para calcular valores en operaciones en el proceso de evaluación. Por ejemplo, el reporte de ventas de 3 productos en un cuatrimestre previo al actual, ya no se actualizará por lo que puede permanecer constante una vez ingresado a un tensor:"
      ]
    },
    {
      "cell_type": "code",
      "execution_count": null,
      "metadata": {
        "id": "Lp13ULCzaibS",
        "outputId": "3cd90613-2a85-408d-df80-cac758184c18"
      },
      "outputs": [
        {
          "name": "stdout",
          "output_type": "stream",
          "text": [
            "tf.Tensor(\n",
            "[[124 100 154 100]\n",
            " [ 30  44  23  50]\n",
            " [ 55  98 100  87]], shape=(3, 4), dtype=int32)\n"
          ]
        }
      ],
      "source": [
        "constante = tf.constant([[124,100,154, 100], [30, 44, 23, 50], [55, 98, 100, 87]])\n",
        "print(constante)\n"
      ]
    },
    {
      "cell_type": "markdown",
      "metadata": {
        "id": "7RJ_jWdNaibS"
      },
      "source": [
        "También, existen otro tipo de tensores menos comunes para otros propósitos específicos:\n",
        "\n",
        "* SparseTensor:  el valor o los valores asignados al tensor no pueden ser modificados una vez creado. Son tensores que se utilizan para representar matrices dispersas que son aquellas que contienen valores numéricos pero la mayoría son ceros solo una pequeña cantidad de valores son diferentes a cero. Ejemplo:\n",
        "\n"
      ]
    },
    {
      "cell_type": "code",
      "execution_count": null,
      "metadata": {
        "id": "EJcYlw1EaibS",
        "outputId": "825e8a9a-8f8a-4026-864b-c506fc9b6e9d"
      },
      "outputs": [
        {
          "name": "stdout",
          "output_type": "stream",
          "text": [
            "SparseTensor(indices=tf.Tensor(\n",
            "[[1 1]\n",
            " [2 3]], shape=(2, 2), dtype=int64), values=tf.Tensor([20 44], shape=(2,), dtype=int32), dense_shape=tf.Tensor([3 4], shape=(2,), dtype=int64))\n"
          ]
        }
      ],
      "source": [
        "sparse = tf.sparse.SparseTensor(indices=[[1, 1], [2, 3]], values=[20, 44], dense_shape=[3, 4])\n",
        "print(sparse)"
      ]
    },
    {
      "cell_type": "markdown",
      "metadata": {
        "id": "lXPcjJvZaibS"
      },
      "source": [
        "La matriz asociada al SparseTensor es de la siguiente forma:\n",
        "\n",
        "![imagen.png](attachment:imagen.png)\n",
        "\n",
        "Donde el atributo indices especifica el número de fila y columna empezando desde la fila 0 y columna 0 de las posiciones de la matriz que tendrán un valor diferente de 0.  Es por esa razón que el valor 20 se encuentra en la celda que coincide con la fila 1 y la columna 1. Y para el caso del 44 está en la celda de intersección de la fila 2 con la columna 3.\n",
        "\n"
      ]
    },
    {
      "cell_type": "markdown",
      "metadata": {
        "id": "EOJsL8gDaibS"
      },
      "source": [
        "•\tPlaceholder: son tensores que pueden utilizarse para alimentar datos a modelos y no necesariamente deben tener un valor inicial fijo, pero no pueden ser evaluados para realizar operaciones. De igual forma es necesario utilizar sesiones para utilizarlos y no son compatibles con el concepto “eager execution”  que nos permite evaluar el tensor de forma inmediata. Ejemplo: Tensorflow 1\n",
        "\n",
        "```\n",
        "tf.compat.v1.disable_eager_execution()\n",
        "x = tf.compat.v1.placeholder(tf.float32, shape=(1024, 1024))\n",
        "print(x)\n",
        "```\n",
        "\n",
        "Salida:\n",
        "\n",
        "![imagen.png](attachment:imagen.png)\n"
      ]
    },
    {
      "cell_type": "markdown",
      "metadata": {
        "id": "aORRhiboaibS"
      },
      "source": [
        "## Operaciones básicas con tensores\n",
        "\n",
        "En muchas ocasiones dentro de una organización se busca constantemente transformar todos esos datos en información que nos permita sacarles provecho, por ejemplo, en nuestro caso en particular utilizarlos para la creación de modelos de datos. Estos modelos pueden ayudarnos al proceso de tomas de decisiones en ambientes sociales, económicos, industriales, etcétera.\n",
        "\n",
        "Pero, recuerda que para llegar a los modelos de datos es de vital importancia que conozcas las operaciones y la forma de evaluación de los procesos dentro de TensorFlow.\n",
        "\n",
        "Además de que los tensores te ayuden a almacenar información a la vez pueden ser generados por el resultado de una operación. Es decir, los tensores te ayudarán a representar cálculos parciales de operaciones definidas que producirán un valor. Esto es muy importante porque TensorFlow contiene una serie de operaciones que trabajarán con tensores y producirán tensores\n",
        "\n",
        "Ejemplo:\n",
        "\n",
        "![imagen.png](attachment:imagen.png)\n",
        "\n",
        "![imagen-2.png](attachment:imagen-2.png)"
      ]
    },
    {
      "cell_type": "markdown",
      "metadata": {
        "id": "KjZcDGLGaibS"
      },
      "source": [
        "El código representa la suma semestral por mes de las ventas de dos productos diferentes para sacar el total de ventas mensuales.\n",
        "\n",
        "La operación ```tf.add``` toma dos vectores del mismo tamaño y forma sumando elemento a elemento lo cual te puede servir para sacar el total de eventos en un período de tiempo. De igual forma el resultado de dicha operación es colocado en un tensor que tiene una forma y un tipo de dato.\n"
      ]
    },
    {
      "cell_type": "code",
      "execution_count": null,
      "metadata": {
        "colab": {
          "base_uri": "https://localhost:8080/"
        },
        "id": "Igl8HgoiFNzu",
        "outputId": "53cd4597-4b79-4958-f83e-49099c3b0a99"
      },
      "outputs": [
        {
          "name": "stdout",
          "output_type": "stream",
          "text": [
            "tf.Tensor([378 224 170 210 300 290], shape=(6,), dtype=int32)\n"
          ]
        }
      ],
      "source": [
        "print(tf.add([345, 200, 123, 145, 180, 200], [33, 24, 47, 65, 120, 90]))\n",
        "\n"
      ]
    },
    {
      "cell_type": "markdown",
      "metadata": {
        "id": "NwBYLV7uaibX"
      },
      "source": [
        "El código representa la corrección del inventario por 34 unidades de 6 productos.  \n",
        "\n",
        "El segundo resultado que obtendrás será por una operación de resta entre un vector y un escalar en este caso el escalar se le va a restar a cada elemento del vector lo cual te puede servir para hacer ajustes en todos los elementos del vector como la corrección de inventarios."
      ]
    },
    {
      "cell_type": "code",
      "execution_count": null,
      "metadata": {
        "id": "dgFmqJVxaibX",
        "outputId": "cede669f-3d53-40c1-8804-86420ed46100"
      },
      "outputs": [
        {
          "name": "stdout",
          "output_type": "stream",
          "text": [
            "tf.Tensor([1396  208   19  200  319  166], shape=(6,), dtype=int32)\n"
          ]
        }
      ],
      "source": [
        "print(tf.subtract([1430, 242, 53, 234, 353,200], 34))"
      ]
    },
    {
      "cell_type": "markdown",
      "metadata": {
        "id": "stAZgEiuaibX"
      },
      "source": [
        "De igual forma existen diversos tipos de operaciones que pueden aprovechar el uso de los GPUs y TPUs dentro de TensorFlow como, por ejemplo:\n",
        "\n",
        "* tf.matmul: realiza una multiplicación de matrices\n",
        "* tf.reduce_max: obtiene el máximo valor entre los elementos numéricos que conforman un tensor.\n",
        "* tf.reduce_mean: obtiene el valor promedio entre los elementos numéricos que conforman un tensor.\n",
        "* tf.linalg.inv: calcula la inversa de una matriz\n",
        "* tf.linalg.matrix_transpose: funciona para transponer una matriz\n",
        "\n",
        "Ahora intenta\n"
      ]
    },
    {
      "cell_type": "code",
      "execution_count": null,
      "metadata": {
        "colab": {
          "base_uri": "https://localhost:8080/"
        },
        "id": "c_JvS31fRIAI",
        "outputId": "47bbecdc-38a5-4d80-ff69-c99f8d8ed5b2"
      },
      "outputs": [
        {
          "name": "stdout",
          "output_type": "stream",
          "text": [
            "tf.Tensor(\n",
            "[[3 4 3]\n",
            " [4 5 2]\n",
            " [6 6 3]\n",
            " [2 1 3]], shape=(4, 3), dtype=int32)\n",
            "tf.Tensor(\n",
            "[[1 2]\n",
            " [2 1]\n",
            " [1 2]], shape=(3, 2), dtype=int32)\n",
            "tf.Tensor(\n",
            "[[14 16]\n",
            " [16 17]\n",
            " [21 24]\n",
            " [ 7 11]], shape=(4, 2), dtype=int32)\n",
            "tf.Tensor(50, shape=(), dtype=int32)\n",
            "tf.Tensor(29, shape=(), dtype=int32)\n"
          ]
        }
      ],
      "source": [
        "matriz4x3 = tf.constant([3, 4, 3, 4, 5, 2, 6, 6, 3, 2, 1, 3], shape=[4, 3])\n",
        "print(matriz4x3)\n",
        "matriz3x2 = tf.constant([1, 2, 2, 1, 1, 2], shape=[3, 2])\n",
        "print(matriz3x2)\n",
        "print(tf.matmul(matriz4x3,matriz3x2))\n",
        "ventasxvend = tf.constant([13, 24, 23, 28, 34, 45, 20, 14, 35, 50, 35])\n",
        "print(tf.reduce_max(ventasxvend))\n",
        "print(tf.reduce_mean(ventasxvend))"
      ]
    },
    {
      "cell_type": "markdown",
      "metadata": {
        "id": "lOMySUl4aibX"
      },
      "source": [
        "Ya habrás identificado que la línea 1 y 3  de la celda anterior contienen la declaración de dos tensores constantes. Pareciera que ambos tensores tienen como valor inicial un vector, sin embargo, es importante que notes que la forma shape nos puede ayudar a acomodar un vector como matriz. Esto será posible, siempre y cuando el número de elementos del vector se igual al número total de elementos dentro de la matriz de acuerdo con sus dimensiones. Por ejemplo, la primera matriz es de 4 filas por 3 columnas lo que nos da un total de 12 elementos dentro de la matriz.\n",
        "\n",
        "En el caso de la segunda matriz la forma indica que son 3 filas por 2 columnas lo que nos da un total de 6 elementos. Es muy importante que tengas presente como se especifica la forma de los tensores dado que te será de mucha utilidad para especificar el alto y ancho del número de datos que contiene una imagen. En otras palabras, utilizaremos matrices dentro de tensores para representar las imágenes en TensorFlow.\n",
        "\n",
        "La línea 5 de la celda anterior realiza una multiplicación de matrices con la matriz de 4 x 3 y la matriz de 3 x 2. Si te das cuenta estamos consumiendo tensores ya declarados a diferencia de nuestro bloque de código anterior donde colocamos directamente los valores con los que se realizarían las operaciones. Ambas maneras son totalmente válidas para realizar operaciones en TensorFlow. Como ya sabrás el resultado de dicha operación será un tensor.\n",
        "\n",
        "![imagen.png](attachment:imagen.png)\n",
        "\n",
        "De igual forma puedes utilizar otras operaciones complementarias para conocer información relevante de los datos que ingresas. Por ejemplo, en la línea 6 declaramos un tensor que tiene las ventas mensuales por vendedor de una tienda departamental en el departamento de electrónica.\n",
        "\n",
        "Si quisieras saber cuál es el máximo número de ventas o el promedio de ventas mensual por empleado puedes utilizar operaciones como tf.reduce_max  y tf.reduce_mean  en las líneas 7 y 8 respectivamente.\n"
      ]
    },
    {
      "cell_type": "code",
      "execution_count": null,
      "metadata": {
        "id": "i7qOF7MxaibX"
      },
      "outputs": [],
      "source": [
        "from tensorflow import keras # Usa backend de KEras para obtener el valor del tensor"
      ]
    },
    {
      "cell_type": "code",
      "execution_count": null,
      "metadata": {
        "id": "-FYpjO1gaibX",
        "outputId": "8cfb3ff1-a351-4748-84e3-e56c6c31f2a3"
      },
      "outputs": [
        {
          "name": "stdout",
          "output_type": "stream",
          "text": [
            "50\n"
          ]
        }
      ],
      "source": [
        "value = tf.keras.backend.eval(tf.reduce_max(ventasxvend))\n",
        "print(value)"
      ]
    },
    {
      "cell_type": "markdown",
      "metadata": {
        "id": "emlAiBHaaibY"
      },
      "source": [
        "Esta funcion intenta evaluar parcialmete el tenson y regresa su valor como un arreglo de numpy"
      ]
    },
    {
      "cell_type": "code",
      "execution_count": null,
      "metadata": {
        "id": "1FXbW5iUaibY",
        "outputId": "e8c04489-6865-4045-dce0-d93f9b8b45ad"
      },
      "outputs": [
        {
          "data": {
            "text/plain": [
              "29"
            ]
          },
          "execution_count": 37,
          "metadata": {},
          "output_type": "execute_result"
        }
      ],
      "source": [
        "tf.get_static_value(tf.reduce_mean(ventasxvend))"
      ]
    },
    {
      "cell_type": "markdown",
      "metadata": {
        "id": "NznI7W_saibY"
      },
      "source": [
        "## Tipos de ejecución\n",
        "\n",
        "Hay cambios significativos entre tensorflow 1 y tensorflow 2, de los principales cambios es lo relativo a \"eager execution\".\n",
        "\n",
        "Anteriormente se creaba un grafo computacional, siendo un tanto ineficiente, ahora Tensorflow 2 no requiere un grafo.\n",
        "\n",
        "Suponemos que tenemos 3 tensores, que representan números constantes:\n",
        "\n"
      ]
    },
    {
      "cell_type": "code",
      "execution_count": null,
      "metadata": {
        "id": "vW8NPL8gaibY"
      },
      "outputs": [],
      "source": [
        "one = tf.constant([12])\n",
        "two = tf.constant([3])\n",
        "three = tf.constant([2])"
      ]
    },
    {
      "cell_type": "markdown",
      "metadata": {
        "id": "mBCGE8XYaibY"
      },
      "source": [
        "El objetivo es multiplicar los primeros 2 tensores y restar el producto de la multiplicación con el ultimo tensor.\n"
      ]
    },
    {
      "cell_type": "code",
      "execution_count": null,
      "metadata": {
        "id": "IIsjaBKPaibY"
      },
      "outputs": [],
      "source": [
        "multres = tf.math.multiply(one, two)"
      ]
    },
    {
      "cell_type": "markdown",
      "metadata": {
        "id": "fCnfwdRmaibY"
      },
      "source": [
        "Ahora hacemos la diferencia"
      ]
    },
    {
      "cell_type": "code",
      "execution_count": null,
      "metadata": {
        "id": "HUysijXvaibY"
      },
      "outputs": [],
      "source": [
        "subres = multres - three"
      ]
    },
    {
      "cell_type": "markdown",
      "metadata": {
        "id": "7POr0fsyaibY"
      },
      "source": [
        "¿Como pensamos que se ejecuta el código anterior? - De forma secuencial.\n",
        "\n",
        "No es así como lo hace Tensorflow, en la configuración anterior por default de tensorflow 2.X.\n"
      ]
    },
    {
      "cell_type": "markdown",
      "metadata": {
        "id": "vfxeRN7taibY"
      },
      "source": [
        "### Grafos computacionales\n",
        "\n",
        "LA forma de hacerse era con un grafo computacionalbasado en la entrada. Visualmente se vería de la siguiente forma:\n",
        "\n",
        "![imagen.png](attachment:imagen.png)\n",
        "\n",
        "Es un esqueleto de lo que requieres que suceda.\n",
        "Para aquellos que han usado tensorflow reconoceran las instanciaciones de Tensorflow debe empezar con ```tf.Session``` para inicializar el grafo antes de cualquier cosa.\n",
        "\n",
        "Los beneficios eran declarar los pasos de lo que necesitamos a priori, que sirve cuando un modelo se tiene que reconstruir, por ejemplo en otra maquina.\n",
        "\n",
        "Por otro lado es increiblemente frustrante ciando estas haciendo tuneo de hyperparametros en un modelo de ml: literalmente tienes que compilar el modelo completo una y otra vez"
      ]
    },
    {
      "cell_type": "markdown",
      "metadata": {
        "id": "2w4I2xfyaibY"
      },
      "source": [
        "\"Eager execution\" es un ambiente de programación que evalúa las operaciones de forma inmediata sin contruir el grafo computacional: la operación regresa los valores concretos en lugar de construir un grafo para ser ejecutado despues."
      ]
    },
    {
      "cell_type": "code",
      "execution_count": null,
      "metadata": {
        "id": "sxaouBCoaibY",
        "outputId": "bf9b7daf-0fa0-490c-f0eb-8589f5e3ba6d"
      },
      "outputs": [
        {
          "data": {
            "text/plain": [
              "False"
            ]
          },
          "execution_count": 58,
          "metadata": {},
          "output_type": "execute_result"
        }
      ],
      "source": [
        "# Prueba si tu version de tensorflow tiene habilitado la ejecucion eager\n",
        "import tensorflow as tf\n",
        "tf.executing_eagerly()"
      ]
    },
    {
      "cell_type": "code",
      "execution_count": null,
      "metadata": {
        "id": "wsFMiAWKaibZ"
      },
      "outputs": [],
      "source": [
        "tf.compat.v1.disable_eager_execution()"
      ]
    },
    {
      "cell_type": "code",
      "execution_count": null,
      "metadata": {
        "id": "DuFAhfDraibZ",
        "outputId": "f6e8cc4c-1c6b-4c29-da43-4532a90518e1"
      },
      "outputs": [
        {
          "name": "stdout",
          "output_type": "stream",
          "text": [
            "Tensor(\"PartitionedCall:0\", shape=(1, 1), dtype=float32)\n"
          ]
        }
      ],
      "source": [
        "def funcion_ejemplo_python(num_ventas, precios):\n",
        "  total = tf.matmul(num_ventas, precios)\n",
        "  comision = tf.multiply(tf.cast(total,tf.float32), .07)\n",
        "  return comision\n",
        "funcion_grafo = tf.function(funcion_ejemplo_python)\n",
        "n_ventas = tf.constant([3, 5, 9],shape = [1,3])\n",
        "preciosxprod = tf.constant([1800, 759, 599], shape = [3,1])\n",
        "print(funcion_grafo(n_ventas,preciosxprod))\n"
      ]
    },
    {
      "cell_type": "code",
      "execution_count": null,
      "metadata": {
        "id": "KZAcVoRcaibZ"
      },
      "outputs": [],
      "source": []
    },
    {
      "cell_type": "code",
      "execution_count": null,
      "metadata": {
        "id": "CPviJijnaibZ"
      },
      "outputs": [],
      "source": []
    },
    {
      "cell_type": "code",
      "execution_count": null,
      "metadata": {
        "colab": {
          "base_uri": "https://localhost:8080/"
        },
        "id": "AcvaVl3QIs5T",
        "outputId": "f5724b8e-a19b-409e-a22b-281430a6c403"
      },
      "outputs": [
        {
          "name": "stdout",
          "output_type": "stream",
          "text": [
            "<tf.Variable 'Variable:0' shape=(5,) dtype=float32>\n"
          ]
        }
      ],
      "source": [
        "variable = tf.Variable([12.11, 12.23, 12.44, 12.51, 12.54])\n",
        "print(variable)"
      ]
    },
    {
      "cell_type": "code",
      "execution_count": null,
      "metadata": {
        "colab": {
          "base_uri": "https://localhost:8080/"
        },
        "id": "vSgYzzYGRBed",
        "outputId": "8bb1731c-b7c5-47fd-860c-9b180ea718e5"
      },
      "outputs": [
        {
          "name": "stdout",
          "output_type": "stream",
          "text": [
            "Tensor(\"Const_2:0\", shape=(3, 4), dtype=int32)\n"
          ]
        }
      ],
      "source": [
        "constante = tf.constant([[124,100,154, 100], [30, 44, 23, 50], [55, 98, 100, 87]])\n",
        "print(constante)"
      ]
    },
    {
      "cell_type": "code",
      "execution_count": null,
      "metadata": {
        "colab": {
          "base_uri": "https://localhost:8080/"
        },
        "id": "8As7pFxDU1t3",
        "outputId": "83a2203e-9551-46b8-961b-3bc2e7fbff1e"
      },
      "outputs": [
        {
          "name": "stdout",
          "output_type": "stream",
          "text": [
            "Tensor(\"Placeholder:0\", shape=(1024, 1024), dtype=float32)\n"
          ]
        }
      ],
      "source": [
        "tf.compat.v1.disable_eager_execution()\n",
        "x = tf.compat.v1.placeholder(tf.float32, shape=(1024, 1024))\n",
        "print(x)\n",
        "#y = tf.matmul(x, x)\n",
        "\n",
        "#with tf.compat.v1.Session() as sess:\n",
        "  #print(sess.run(y))  # ERROR: will fail because x was not fed.\n",
        "\n",
        "  #rand_array = np.random.rand(1024, 1024)\n",
        "  #print(sess.run(y, feed_dict={x: rand_array}))  # Will succeed."
      ]
    },
    {
      "cell_type": "code",
      "execution_count": null,
      "metadata": {
        "colab": {
          "base_uri": "https://localhost:8080/"
        },
        "id": "3EGAWy1kYQ7d",
        "outputId": "c3ec6693-9f05-4d17-8862-df9164aecff5"
      },
      "outputs": [
        {
          "data": {
            "text/plain": [
              "SparseTensor(indices=Tensor(\"SparseTensor/indices:0\", shape=(2, 2), dtype=int64), values=Tensor(\"SparseTensor/values:0\", shape=(2,), dtype=int32), dense_shape=Tensor(\"SparseTensor/dense_shape:0\", shape=(2,), dtype=int64))"
            ]
          },
          "execution_count": 48,
          "metadata": {},
          "output_type": "execute_result"
        }
      ],
      "source": [
        "tf.sparse.SparseTensor(indices=[[1, 1], [2, 3]], values=[20, 44], dense_shape=[3, 4])"
      ]
    },
    {
      "cell_type": "code",
      "execution_count": null,
      "metadata": {
        "colab": {
          "base_uri": "https://localhost:8080/"
        },
        "id": "kevnHHIHfsYW",
        "outputId": "65081a61-c3bf-48a0-a451-db530693a4e0"
      },
      "outputs": [
        {
          "data": {
            "text/plain": [
              "<tf.Tensor 'Mul:0' shape=() dtype=int32>"
            ]
          },
          "execution_count": 49,
          "metadata": {},
          "output_type": "execute_result"
        }
      ],
      "source": [
        "tf.multiply(4,5)\n"
      ]
    },
    {
      "cell_type": "code",
      "execution_count": null,
      "metadata": {
        "colab": {
          "base_uri": "https://localhost:8080/"
        },
        "id": "NjvYRP8w2DUh",
        "outputId": "1634047f-35d8-47ef-a7cb-c7632d239fbc"
      },
      "outputs": [
        {
          "name": "stdout",
          "output_type": "stream",
          "text": [
            "Tensor(\"PartitionedCall_1:0\", shape=(1, 1), dtype=float32)\n"
          ]
        }
      ],
      "source": [
        "def funcion_ejemplo_python(num_ventas, precios):\n",
        "  total = tf.matmul(num_ventas, precios)\n",
        "  comision = tf.multiply(tf.cast(total,tf.float32), .07)\n",
        "  return comision\n",
        "\n",
        "funcion_grafo = tf.function(funcion_ejemplo_python)\n",
        "\n",
        "n_ventas = tf.constant([3, 5, 9],shape = [1,3])\n",
        "preciosxprod = tf.constant([1800, 759, 599], shape = [3,1])\n",
        "\n",
        "print(funcion_grafo(n_ventas,preciosxprod))\n"
      ]
    },
    {
      "cell_type": "code",
      "execution_count": null,
      "metadata": {
        "colab": {
          "base_uri": "https://localhost:8080/"
        },
        "id": "kQCdwEjdkUYX",
        "outputId": "e62e3d6b-e026-4926-cece-932ad94a24e8"
      },
      "outputs": [
        {
          "name": "stdout",
          "output_type": "stream",
          "text": [
            "tf.Tensor([[478500]], shape=(1, 1), dtype=int32)\n"
          ]
        }
      ],
      "source": [
        "sueldo_p1 = tf.constant([34000, 15000, 40000],shape=[1,3])\n",
        "personal_p1 = tf.constant([4, 2, 1],shape=[3,1])\n",
        "sueldo_p2 = tf.constant([31500, 13000, 38000],shape=[1,3])\n",
        "personal_p2 = tf.constant([5, 3, 2],shape=[3,1])\n",
        "\n",
        "total = tf.add(tf.matmul(sueldo_p1,personal_p1),tf.matmul(sueldo_p2,personal_p2))\n",
        "print(total)\n"
      ]
    },
    {
      "cell_type": "code",
      "execution_count": null,
      "metadata": {
        "colab": {
          "base_uri": "https://localhost:8080/",
          "height": 270
        },
        "id": "ot5u4ojMoDIz",
        "outputId": "05ca9f7c-843a-4bb3-fcc6-1b01d76cfbd2"
      },
      "outputs": [
        {
          "ename": "ValueError",
          "evalue": "Shape must be rank 2 but is rank 1 for '{{node MatMul}} = MatMul[T=DT_INT32, transpose_a=false, transpose_b=false](Const_5, Const_6)' with input shapes: [3], [3].",
          "output_type": "error",
          "traceback": [
            "\u001b[1;31m---------------------------------------------------------------------------\u001b[0m",
            "\u001b[1;31mValueError\u001b[0m                                Traceback (most recent call last)",
            "Cell \u001b[1;32mIn[51], line 6\u001b[0m\n\u001b[0;32m      3\u001b[0m sueldo_p2 \u001b[38;5;241m=\u001b[39m tf\u001b[38;5;241m.\u001b[39mconstant([\u001b[38;5;241m31500\u001b[39m, \u001b[38;5;241m13000\u001b[39m, \u001b[38;5;241m38000\u001b[39m])\n\u001b[0;32m      4\u001b[0m personal_p2 \u001b[38;5;241m=\u001b[39m tf\u001b[38;5;241m.\u001b[39mconstant([\u001b[38;5;241m5\u001b[39m, \u001b[38;5;241m3\u001b[39m, \u001b[38;5;241m2\u001b[39m])\n\u001b[1;32m----> 6\u001b[0m total \u001b[38;5;241m=\u001b[39m tf\u001b[38;5;241m.\u001b[39madd(\u001b[43mtf\u001b[49m\u001b[38;5;241;43m.\u001b[39;49m\u001b[43mmatmul\u001b[49m\u001b[43m(\u001b[49m\u001b[43msueldo_p1\u001b[49m\u001b[43m,\u001b[49m\u001b[43mpersonal_p1\u001b[49m\u001b[43m)\u001b[49m,tf\u001b[38;5;241m.\u001b[39mmatmul(sueldo_p2,personal_p2))\n\u001b[0;32m      7\u001b[0m \u001b[38;5;28mprint\u001b[39m(total)\n",
            "File \u001b[1;32m~\\miniconda3\\envs\\mlenv\\lib\\site-packages\\tensorflow\\python\\util\\traceback_utils.py:153\u001b[0m, in \u001b[0;36mfilter_traceback.<locals>.error_handler\u001b[1;34m(*args, **kwargs)\u001b[0m\n\u001b[0;32m    151\u001b[0m \u001b[38;5;28;01mexcept\u001b[39;00m \u001b[38;5;167;01mException\u001b[39;00m \u001b[38;5;28;01mas\u001b[39;00m e:\n\u001b[0;32m    152\u001b[0m   filtered_tb \u001b[38;5;241m=\u001b[39m _process_traceback_frames(e\u001b[38;5;241m.\u001b[39m__traceback__)\n\u001b[1;32m--> 153\u001b[0m   \u001b[38;5;28;01mraise\u001b[39;00m e\u001b[38;5;241m.\u001b[39mwith_traceback(filtered_tb) \u001b[38;5;28;01mfrom\u001b[39;00m \u001b[38;5;28mNone\u001b[39m\n\u001b[0;32m    154\u001b[0m \u001b[38;5;28;01mfinally\u001b[39;00m:\n\u001b[0;32m    155\u001b[0m   \u001b[38;5;28;01mdel\u001b[39;00m filtered_tb\n",
            "File \u001b[1;32m~\\miniconda3\\envs\\mlenv\\lib\\site-packages\\tensorflow\\python\\framework\\ops.py:1751\u001b[0m, in \u001b[0;36m_create_c_op\u001b[1;34m(graph, node_def, inputs, control_inputs, op_def, extract_traceback)\u001b[0m\n\u001b[0;32m   1748\u001b[0m   c_op \u001b[38;5;241m=\u001b[39m pywrap_tf_session\u001b[38;5;241m.\u001b[39mTF_FinishOperation(op_desc)\n\u001b[0;32m   1749\u001b[0m \u001b[38;5;28;01mexcept\u001b[39;00m errors\u001b[38;5;241m.\u001b[39mInvalidArgumentError \u001b[38;5;28;01mas\u001b[39;00m e:\n\u001b[0;32m   1750\u001b[0m   \u001b[38;5;66;03m# Convert to ValueError for backwards compatibility.\u001b[39;00m\n\u001b[1;32m-> 1751\u001b[0m   \u001b[38;5;28;01mraise\u001b[39;00m \u001b[38;5;167;01mValueError\u001b[39;00m(e\u001b[38;5;241m.\u001b[39mmessage)\n\u001b[0;32m   1753\u001b[0m \u001b[38;5;66;03m# Record the current Python stack trace as the creating stacktrace of this\u001b[39;00m\n\u001b[0;32m   1754\u001b[0m \u001b[38;5;66;03m# TF_Operation.\u001b[39;00m\n\u001b[0;32m   1755\u001b[0m \u001b[38;5;28;01mif\u001b[39;00m extract_traceback:\n",
            "\u001b[1;31mValueError\u001b[0m: Shape must be rank 2 but is rank 1 for '{{node MatMul}} = MatMul[T=DT_INT32, transpose_a=false, transpose_b=false](Const_5, Const_6)' with input shapes: [3], [3]."
          ]
        }
      ],
      "source": [
        "sueldo_p1 = tf.constant([34000, 15000, 40000])\n",
        "personal_p1 = tf.constant([4, 2, 1])\n",
        "sueldo_p2 = tf.constant([31500, 13000, 38000])\n",
        "personal_p2 = tf.constant([5, 3, 2])\n",
        "\n",
        "total = tf.add(tf.matmul(sueldo_p1,personal_p1),tf.matmul(sueldo_p2,personal_p2))\n",
        "print(total)"
      ]
    },
    {
      "cell_type": "code",
      "execution_count": null,
      "metadata": {
        "id": "XlvSQVfRaibb"
      },
      "outputs": [],
      "source": []
    },
    {
      "cell_type": "code",
      "execution_count": null,
      "metadata": {
        "colab": {
          "base_uri": "https://localhost:8080/"
        },
        "id": "ya-hJLfYoTqU",
        "outputId": "4da29bfc-1ac9-4634-b1ad-f69341f390ac"
      },
      "outputs": [
        {
          "name": "stdout",
          "output_type": "stream",
          "text": [
            "Tensor(\"Add:0\", shape=(3, 3), dtype=int32)\n"
          ]
        }
      ],
      "source": [
        "sueldo_p1 = tf.constant([34000, 15000, 40000],shape=[3,1])\n",
        "personal_p1 = tf.constant([4, 2, 1],shape=[1,3])\n",
        "sueldo_p2 = tf.constant([31500, 13000, 38000],shape=[3,1])\n",
        "personal_p2 = tf.constant([5, 3, 2],shape=[1,3])\n",
        "\n",
        "total = tf.add(tf.matmul(sueldo_p1,personal_p1),tf.matmul(sueldo_p2,personal_p2))\n",
        "print(total)\n",
        "\n"
      ]
    },
    {
      "cell_type": "code",
      "execution_count": null,
      "metadata": {
        "colab": {
          "base_uri": "https://localhost:8080/"
        },
        "id": "1X--Qevbo2mJ",
        "outputId": "e3c23a47-c107-4fb3-f273-2ffb7a60a0c4"
      },
      "outputs": [
        {
          "name": "stdout",
          "output_type": "stream",
          "text": [
            "Tensor(\"Add_1:0\", shape=(1, 1), dtype=int32)\n"
          ]
        }
      ],
      "source": [
        "sueldo_p1 = tf.constant([34000, 15000, 40000],shape=[1,3])\n",
        "personal_p1 = tf.constant([4, 2, 1],shape=[3,1])\n",
        "sueldo_p2 = tf.constant([31500, 13000, 38000],shape=[1,3])\n",
        "personal_p2 = tf.constant([5, 3, 2],shape=[3,1])\n",
        "\n",
        "total = tf.add(tf.matmul(sueldo_p1,personal_p2),tf.matmul(sueldo_p2,personal_p1))\n",
        "print(total)"
      ]
    },
    {
      "cell_type": "code",
      "execution_count": null,
      "metadata": {
        "colab": {
          "base_uri": "https://localhost:8080/"
        },
        "id": "3Ij2Cb8oFqa6",
        "outputId": "a03b50fe-1302-4ba9-9a25-d03085d804ef"
      },
      "outputs": [
        {
          "name": "stdout",
          "output_type": "stream",
          "text": [
            "Tensor(\"Max:0\", shape=(), dtype=int32)\n"
          ]
        }
      ],
      "source": [
        "sueldos = tf.constant([34000, 15000, 40000, 31500, 13000, 38000],shape=[2,3])\n",
        "personal = tf.constant([10000, 22000, 1000, 10100, 31100, 5000],shape=[2,3])\n",
        "\n",
        "resultado = tf.reduce_max(tf.add(sueldos, personal))\n",
        "print(resultado)\n",
        "\n"
      ]
    },
    {
      "cell_type": "code",
      "execution_count": null,
      "metadata": {
        "id": "cqnTVOs1aibc",
        "outputId": "929113f7-ffa5-44f4-809d-6439b515a38b"
      },
      "outputs": [
        {
          "name": "stdout",
          "output_type": "stream",
          "text": [
            "44100\n"
          ]
        }
      ],
      "source": [
        "session = tf.compat.v1.Session()\n",
        "output = session.run(resultado)\n",
        "session.close()\n",
        "print(output)"
      ]
    },
    {
      "cell_type": "code",
      "execution_count": null,
      "metadata": {
        "id": "eihpWP4Uaibc"
      },
      "outputs": [],
      "source": [
        "import tensorflow as tf\n",
        "import numpy as n"
      ]
    },
    {
      "cell_type": "code",
      "execution_count": null,
      "metadata": {
        "id": "U7YAO0tgaibc",
        "outputId": "6101a8a2-0f71-4555-f015-7025d1c8294e"
      },
      "outputs": [
        {
          "ename": "ValueError",
          "evalue": "tf.enable_eager_execution must be called at program startup.",
          "output_type": "error",
          "traceback": [
            "\u001b[1;31m---------------------------------------------------------------------------\u001b[0m",
            "\u001b[1;31mValueError\u001b[0m                                Traceback (most recent call last)",
            "Cell \u001b[1;32mIn[63], line 4\u001b[0m\n\u001b[0;32m      1\u001b[0m \u001b[38;5;66;03m#Enable eager execution\u001b[39;00m\n\u001b[0;32m      3\u001b[0m \u001b[38;5;28;01mfrom\u001b[39;00m \u001b[38;5;21;01mtensorflow\u001b[39;00m\u001b[38;5;21;01m.\u001b[39;00m\u001b[38;5;21;01mpython\u001b[39;00m\u001b[38;5;21;01m.\u001b[39;00m\u001b[38;5;21;01mframework\u001b[39;00m\u001b[38;5;21;01m.\u001b[39;00m\u001b[38;5;21;01mops\u001b[39;00m \u001b[38;5;28;01mimport\u001b[39;00m enable_eager_execution\n\u001b[1;32m----> 4\u001b[0m \u001b[38;5;28;01massert\u001b[39;00m \u001b[43menable_eager_execution\u001b[49m\u001b[43m(\u001b[49m\u001b[43m)\u001b[49m\n",
            "File \u001b[1;32m~\\miniconda3\\envs\\mlenv\\lib\\site-packages\\tensorflow\\python\\framework\\ops.py:5624\u001b[0m, in \u001b[0;36menable_eager_execution\u001b[1;34m(config, device_policy, execution_mode)\u001b[0m\n\u001b[0;32m   5622\u001b[0m logging\u001b[38;5;241m.\u001b[39mvlog(\u001b[38;5;241m1\u001b[39m, \u001b[38;5;124m\"\u001b[39m\u001b[38;5;124mEnabling eager execution\u001b[39m\u001b[38;5;124m\"\u001b[39m)\n\u001b[0;32m   5623\u001b[0m \u001b[38;5;28;01mif\u001b[39;00m context\u001b[38;5;241m.\u001b[39mdefault_execution_mode \u001b[38;5;241m!=\u001b[39m context\u001b[38;5;241m.\u001b[39mEAGER_MODE:\n\u001b[1;32m-> 5624\u001b[0m   \u001b[38;5;28;01mreturn\u001b[39;00m \u001b[43menable_eager_execution_internal\u001b[49m\u001b[43m(\u001b[49m\n\u001b[0;32m   5625\u001b[0m \u001b[43m      \u001b[49m\u001b[43mconfig\u001b[49m\u001b[38;5;241;43m=\u001b[39;49m\u001b[43mconfig\u001b[49m\u001b[43m,\u001b[49m\n\u001b[0;32m   5626\u001b[0m \u001b[43m      \u001b[49m\u001b[43mdevice_policy\u001b[49m\u001b[38;5;241;43m=\u001b[39;49m\u001b[43mdevice_policy\u001b[49m\u001b[43m,\u001b[49m\n\u001b[0;32m   5627\u001b[0m \u001b[43m      \u001b[49m\u001b[43mexecution_mode\u001b[49m\u001b[38;5;241;43m=\u001b[39;49m\u001b[43mexecution_mode\u001b[49m\u001b[43m,\u001b[49m\n\u001b[0;32m   5628\u001b[0m \u001b[43m      \u001b[49m\u001b[43mserver_def\u001b[49m\u001b[38;5;241;43m=\u001b[39;49m\u001b[38;5;28;43;01mNone\u001b[39;49;00m\u001b[43m)\u001b[49m\n",
            "File \u001b[1;32m~\\miniconda3\\envs\\mlenv\\lib\\site-packages\\tensorflow\\python\\framework\\ops.py:5688\u001b[0m, in \u001b[0;36menable_eager_execution_internal\u001b[1;34m(config, device_policy, execution_mode, server_def)\u001b[0m\n\u001b[0;32m   5685\u001b[0m   graph_mode_has_been_used \u001b[38;5;241m=\u001b[39m (\n\u001b[0;32m   5686\u001b[0m       _default_graph_stack\u001b[38;5;241m.\u001b[39m_global_default_graph \u001b[38;5;129;01mis\u001b[39;00m \u001b[38;5;129;01mnot\u001b[39;00m \u001b[38;5;28;01mNone\u001b[39;00m)  \u001b[38;5;66;03m# pylint: disable=protected-access\u001b[39;00m\n\u001b[0;32m   5687\u001b[0m   \u001b[38;5;28;01mif\u001b[39;00m graph_mode_has_been_used:\n\u001b[1;32m-> 5688\u001b[0m     \u001b[38;5;28;01mraise\u001b[39;00m \u001b[38;5;167;01mValueError\u001b[39;00m(\n\u001b[0;32m   5689\u001b[0m         \u001b[38;5;124m\"\u001b[39m\u001b[38;5;124mtf.enable_eager_execution must be called at program startup.\u001b[39m\u001b[38;5;124m\"\u001b[39m)\n\u001b[0;32m   5690\u001b[0m context\u001b[38;5;241m.\u001b[39mdefault_execution_mode \u001b[38;5;241m=\u001b[39m context\u001b[38;5;241m.\u001b[39mEAGER_MODE\n\u001b[0;32m   5691\u001b[0m \u001b[38;5;66;03m# pylint: disable=protected-access\u001b[39;00m\n",
            "\u001b[1;31mValueError\u001b[0m: tf.enable_eager_execution must be called at program startup."
          ]
        }
      ],
      "source": [
        "#Enable eager execution\n",
        "\n",
        "from tensorflow.python.framework.ops import enable_eager_execution\n",
        "assert enable_eager_execution()"
      ]
    }
  ],
  "metadata": {
    "colab": {
      "provenance": [],
      "include_colab_link": true
    },
    "kernelspec": {
      "display_name": "mlenv",
      "language": "python",
      "name": "mlenv"
    },
    "language_info": {
      "codemirror_mode": {
        "name": "ipython",
        "version": 3
      },
      "file_extension": ".py",
      "mimetype": "text/x-python",
      "name": "python",
      "nbconvert_exporter": "python",
      "pygments_lexer": "ipython3",
      "version": "3.8.16"
    }
  },
  "nbformat": 4,
  "nbformat_minor": 0
}